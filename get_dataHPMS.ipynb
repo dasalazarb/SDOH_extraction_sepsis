{
 "cells": [
  {
   "cell_type": "code",
   "execution_count": 1,
   "id": "d1739567-6366-4030-a185-3d762be5c31e",
   "metadata": {
    "scrolled": true
   },
   "outputs": [],
   "source": [
    "import os\n",
    "import re\n",
    "import geopandas as gpd"
   ]
  },
  {
   "cell_type": "code",
   "execution_count": 31,
   "id": "713786e7-2474-4c06-b6ca-39c3e8b19193",
   "metadata": {},
   "outputs": [],
   "source": [
    "gdb_path = 'C:/Users/salazarda/Downloads/HPMS_2020.gdb/HPMS_2020.gdb/'\n",
    "table_name = 'HPMS_FULL_MD_2020'"
   ]
  },
  {
   "cell_type": "code",
   "execution_count": 33,
   "id": "aeca6b6f-e33e-4e20-841b-20c130323761",
   "metadata": {
    "scrolled": true
   },
   "outputs": [
    {
     "name": "stdout",
     "output_type": "stream",
     "text": [
      "Available layers:\n",
      "- HPMS_FULL_MD_2020\n",
      "- HPMS_FULL_DC_2020\n",
      "- HPMS_FULL_LA_2020\n",
      "- HPMS_FULL_TX_2020\n",
      "- HPMS_FULL_RI_2020\n",
      "- HPMS_FULL_NY_2020\n",
      "- HPMS_FULL_VA_2020\n",
      "- HPMS_FULL_PA_2020\n",
      "- HPMS_FULL_NJ_2020\n",
      "- HPMS_FULL_WV_2020\n",
      "- HPMS_FULL_FL_2020\n",
      "- HPMS_FULL_NC_2020\n",
      "- HPMS_FULL_OK_2020\n",
      "- HPMS_FULL_KS_2020\n",
      "- HPMS_FULL_TN_2020\n",
      "- HPMS_FULL_CA_2020\n",
      "- HPMS_FULL_VT_2020\n",
      "- HPMS_FULL_MA_2020\n",
      "- HPMS_FULL_CT_2020\n",
      "- HPMS_FULL_NH_2020\n",
      "- HPMS_FULL_ME_2020\n",
      "- HPMS_FULL_MI_2020\n",
      "- HPMS_FULL_AL_2020\n",
      "- HPMS_FULL_GA_2020\n",
      "- HPMS_FULL_SC_2020\n",
      "- HPMS_FULL_IL_2020\n",
      "- HPMS_FULL_KY_2020\n",
      "- HPMS_FULL_ID_2020\n",
      "- HPMS_FULL_IA_2020\n",
      "- HPMS_FULL_IN_2020\n",
      "- HPMS_FULL_OH_2020\n",
      "- HPMS_FULL_MO_2020\n",
      "- HPMS_FULL_AR_2020\n",
      "- HPMS_FULL_AK_2020\n",
      "- HPMS_FULL_ND_2020\n",
      "- HPMS_FULL_SD_2020\n",
      "- HPMS_FULL_NE_2020\n",
      "- HPMS_FULL_OR_2020\n",
      "- HPMS_FULL_WI_2020\n",
      "- HPMS_FULL_WY_2020\n",
      "- HPMS_FULL_MT_2020\n",
      "- HPMS_FULL_WA_2020\n",
      "- HPMS_FULL_NM_2020\n",
      "- HPMS_FULL_UT_2020\n",
      "- HPMS_FULL_MN_2020\n",
      "- HPMS_FULL_NV_2020\n",
      "- HPMS_FULL_AZ_2020\n",
      "- HPMS_FULL_HI_2020\n",
      "- HPMS_FULL_PR_2020\n",
      "- HPMS_FULL_DE_2020\n",
      "- HPMS_FULL_MS_2020\n",
      "- HPMS_FULL_CO_2020\n"
     ]
    }
   ],
   "source": [
    "import fiona\n",
    "\n",
    "gdb_path = 'C:/Users/salazarda/Downloads/HPMS_2020.gdb/HPMS_2020.gdb/'\n",
    "lista = list()\n",
    "try:\n",
    "    with fiona.Env():  # Ensure the Fiona environment is properly initialized\n",
    "        layers = fiona.listlayers(gdb_path)\n",
    "        print(\"Available layers:\")\n",
    "        for layer_name in layers:\n",
    "            print(f\"- {layer_name}\")\n",
    "            lista.append(layer_name)\n",
    "except fiona.errors.DriverError as e:\n",
    "    print(f\"Error opening Geodatabase: {e}\")\n",
    "except Exception as e:\n",
    "    print(f\"An unexpected error occurred: {e}\")\n",
    "    "
   ]
  },
  {
   "cell_type": "code",
   "execution_count": 35,
   "id": "3b460a80-a59e-4482-994d-cd9ddfe1e884",
   "metadata": {
    "scrolled": true
   },
   "outputs": [
    {
     "name": "stderr",
     "output_type": "stream",
     "text": [
      "C:\\Users\\salazarda\\AppData\\Local\\anaconda3\\envs\\pytor\\Lib\\site-packages\\pyogrio\\raw.py:198: UserWarning: Measured (M) geometry types are not supported. Original type 'Measured MultiLineString' is converted to 'MultiLineString'\n",
      "  return ogr_read(\n"
     ]
    },
    {
     "name": "stdout",
     "output_type": "stream",
     "text": [
      "Tabla 'HPMS_FULL_MD_2020' exportada a 'C:/Users/salazarda/Downloads/HPMS_2020.gdb/output/output_HPMS_FULL_MD_2020.csv'\n"
     ]
    },
    {
     "name": "stderr",
     "output_type": "stream",
     "text": [
      "C:\\Users\\salazarda\\AppData\\Local\\anaconda3\\envs\\pytor\\Lib\\site-packages\\pyogrio\\raw.py:198: UserWarning: Measured (M) geometry types are not supported. Original type 'Measured MultiLineString' is converted to 'MultiLineString'\n",
      "  return ogr_read(\n"
     ]
    },
    {
     "name": "stdout",
     "output_type": "stream",
     "text": [
      "Tabla 'HPMS_FULL_MD_2020' exportada a 'C:/Users/salazarda/Downloads/HPMS_2020.gdb/output/output_HPMS_FULL_DC_2020.csv'\n"
     ]
    },
    {
     "name": "stderr",
     "output_type": "stream",
     "text": [
      "C:\\Users\\salazarda\\AppData\\Local\\anaconda3\\envs\\pytor\\Lib\\site-packages\\pyogrio\\raw.py:198: UserWarning: Measured (M) geometry types are not supported. Original type 'Measured MultiLineString' is converted to 'MultiLineString'\n",
      "  return ogr_read(\n"
     ]
    },
    {
     "name": "stdout",
     "output_type": "stream",
     "text": [
      "Tabla 'HPMS_FULL_MD_2020' exportada a 'C:/Users/salazarda/Downloads/HPMS_2020.gdb/output/output_HPMS_FULL_LA_2020.csv'\n"
     ]
    },
    {
     "name": "stderr",
     "output_type": "stream",
     "text": [
      "C:\\Users\\salazarda\\AppData\\Local\\anaconda3\\envs\\pytor\\Lib\\site-packages\\pyogrio\\raw.py:198: UserWarning: Measured (M) geometry types are not supported. Original type 'Measured MultiLineString' is converted to 'MultiLineString'\n",
      "  return ogr_read(\n"
     ]
    },
    {
     "name": "stdout",
     "output_type": "stream",
     "text": [
      "Tabla 'HPMS_FULL_MD_2020' exportada a 'C:/Users/salazarda/Downloads/HPMS_2020.gdb/output/output_HPMS_FULL_TX_2020.csv'\n"
     ]
    },
    {
     "name": "stderr",
     "output_type": "stream",
     "text": [
      "C:\\Users\\salazarda\\AppData\\Local\\anaconda3\\envs\\pytor\\Lib\\site-packages\\pyogrio\\raw.py:198: UserWarning: Measured (M) geometry types are not supported. Original type 'Measured MultiLineString' is converted to 'MultiLineString'\n",
      "  return ogr_read(\n"
     ]
    },
    {
     "name": "stdout",
     "output_type": "stream",
     "text": [
      "Tabla 'HPMS_FULL_MD_2020' exportada a 'C:/Users/salazarda/Downloads/HPMS_2020.gdb/output/output_HPMS_FULL_RI_2020.csv'\n"
     ]
    },
    {
     "name": "stderr",
     "output_type": "stream",
     "text": [
      "C:\\Users\\salazarda\\AppData\\Local\\anaconda3\\envs\\pytor\\Lib\\site-packages\\pyogrio\\raw.py:198: UserWarning: Measured (M) geometry types are not supported. Original type 'Measured MultiLineString' is converted to 'MultiLineString'\n",
      "  return ogr_read(\n"
     ]
    },
    {
     "name": "stdout",
     "output_type": "stream",
     "text": [
      "Tabla 'HPMS_FULL_MD_2020' exportada a 'C:/Users/salazarda/Downloads/HPMS_2020.gdb/output/output_HPMS_FULL_NY_2020.csv'\n"
     ]
    },
    {
     "name": "stderr",
     "output_type": "stream",
     "text": [
      "C:\\Users\\salazarda\\AppData\\Local\\anaconda3\\envs\\pytor\\Lib\\site-packages\\pyogrio\\raw.py:198: UserWarning: Measured (M) geometry types are not supported. Original type 'Measured MultiLineString' is converted to 'MultiLineString'\n",
      "  return ogr_read(\n"
     ]
    },
    {
     "name": "stdout",
     "output_type": "stream",
     "text": [
      "Tabla 'HPMS_FULL_MD_2020' exportada a 'C:/Users/salazarda/Downloads/HPMS_2020.gdb/output/output_HPMS_FULL_VA_2020.csv'\n"
     ]
    },
    {
     "name": "stderr",
     "output_type": "stream",
     "text": [
      "C:\\Users\\salazarda\\AppData\\Local\\anaconda3\\envs\\pytor\\Lib\\site-packages\\pyogrio\\raw.py:198: UserWarning: Measured (M) geometry types are not supported. Original type 'Measured MultiLineString' is converted to 'MultiLineString'\n",
      "  return ogr_read(\n"
     ]
    },
    {
     "name": "stdout",
     "output_type": "stream",
     "text": [
      "Tabla 'HPMS_FULL_MD_2020' exportada a 'C:/Users/salazarda/Downloads/HPMS_2020.gdb/output/output_HPMS_FULL_PA_2020.csv'\n"
     ]
    },
    {
     "name": "stderr",
     "output_type": "stream",
     "text": [
      "C:\\Users\\salazarda\\AppData\\Local\\anaconda3\\envs\\pytor\\Lib\\site-packages\\pyogrio\\raw.py:198: UserWarning: Measured (M) geometry types are not supported. Original type 'Measured MultiLineString' is converted to 'MultiLineString'\n",
      "  return ogr_read(\n"
     ]
    },
    {
     "name": "stdout",
     "output_type": "stream",
     "text": [
      "Tabla 'HPMS_FULL_MD_2020' exportada a 'C:/Users/salazarda/Downloads/HPMS_2020.gdb/output/output_HPMS_FULL_NJ_2020.csv'\n"
     ]
    },
    {
     "name": "stderr",
     "output_type": "stream",
     "text": [
      "C:\\Users\\salazarda\\AppData\\Local\\anaconda3\\envs\\pytor\\Lib\\site-packages\\pyogrio\\raw.py:198: UserWarning: Measured (M) geometry types are not supported. Original type 'Measured MultiLineString' is converted to 'MultiLineString'\n",
      "  return ogr_read(\n"
     ]
    },
    {
     "name": "stdout",
     "output_type": "stream",
     "text": [
      "Tabla 'HPMS_FULL_MD_2020' exportada a 'C:/Users/salazarda/Downloads/HPMS_2020.gdb/output/output_HPMS_FULL_WV_2020.csv'\n"
     ]
    },
    {
     "name": "stderr",
     "output_type": "stream",
     "text": [
      "C:\\Users\\salazarda\\AppData\\Local\\anaconda3\\envs\\pytor\\Lib\\site-packages\\pyogrio\\raw.py:198: UserWarning: Measured (M) geometry types are not supported. Original type 'Measured MultiLineString' is converted to 'MultiLineString'\n",
      "  return ogr_read(\n"
     ]
    },
    {
     "name": "stdout",
     "output_type": "stream",
     "text": [
      "Tabla 'HPMS_FULL_MD_2020' exportada a 'C:/Users/salazarda/Downloads/HPMS_2020.gdb/output/output_HPMS_FULL_FL_2020.csv'\n"
     ]
    },
    {
     "name": "stderr",
     "output_type": "stream",
     "text": [
      "C:\\Users\\salazarda\\AppData\\Local\\anaconda3\\envs\\pytor\\Lib\\site-packages\\pyogrio\\raw.py:198: UserWarning: Measured (M) geometry types are not supported. Original type 'Measured MultiLineString' is converted to 'MultiLineString'\n",
      "  return ogr_read(\n"
     ]
    },
    {
     "name": "stdout",
     "output_type": "stream",
     "text": [
      "Tabla 'HPMS_FULL_MD_2020' exportada a 'C:/Users/salazarda/Downloads/HPMS_2020.gdb/output/output_HPMS_FULL_NC_2020.csv'\n"
     ]
    },
    {
     "name": "stderr",
     "output_type": "stream",
     "text": [
      "C:\\Users\\salazarda\\AppData\\Local\\anaconda3\\envs\\pytor\\Lib\\site-packages\\pyogrio\\raw.py:198: UserWarning: Measured (M) geometry types are not supported. Original type 'Measured MultiLineString' is converted to 'MultiLineString'\n",
      "  return ogr_read(\n"
     ]
    },
    {
     "name": "stdout",
     "output_type": "stream",
     "text": [
      "Tabla 'HPMS_FULL_MD_2020' exportada a 'C:/Users/salazarda/Downloads/HPMS_2020.gdb/output/output_HPMS_FULL_OK_2020.csv'\n"
     ]
    },
    {
     "name": "stderr",
     "output_type": "stream",
     "text": [
      "C:\\Users\\salazarda\\AppData\\Local\\anaconda3\\envs\\pytor\\Lib\\site-packages\\pyogrio\\raw.py:198: UserWarning: Measured (M) geometry types are not supported. Original type 'Measured MultiLineString' is converted to 'MultiLineString'\n",
      "  return ogr_read(\n"
     ]
    },
    {
     "name": "stdout",
     "output_type": "stream",
     "text": [
      "Tabla 'HPMS_FULL_MD_2020' exportada a 'C:/Users/salazarda/Downloads/HPMS_2020.gdb/output/output_HPMS_FULL_KS_2020.csv'\n"
     ]
    },
    {
     "name": "stderr",
     "output_type": "stream",
     "text": [
      "C:\\Users\\salazarda\\AppData\\Local\\anaconda3\\envs\\pytor\\Lib\\site-packages\\pyogrio\\raw.py:198: UserWarning: Measured (M) geometry types are not supported. Original type 'Measured MultiLineString' is converted to 'MultiLineString'\n",
      "  return ogr_read(\n"
     ]
    },
    {
     "name": "stdout",
     "output_type": "stream",
     "text": [
      "Tabla 'HPMS_FULL_MD_2020' exportada a 'C:/Users/salazarda/Downloads/HPMS_2020.gdb/output/output_HPMS_FULL_TN_2020.csv'\n"
     ]
    },
    {
     "name": "stderr",
     "output_type": "stream",
     "text": [
      "C:\\Users\\salazarda\\AppData\\Local\\anaconda3\\envs\\pytor\\Lib\\site-packages\\pyogrio\\raw.py:198: UserWarning: Measured (M) geometry types are not supported. Original type 'Measured MultiLineString' is converted to 'MultiLineString'\n",
      "  return ogr_read(\n"
     ]
    },
    {
     "name": "stdout",
     "output_type": "stream",
     "text": [
      "Tabla 'HPMS_FULL_MD_2020' exportada a 'C:/Users/salazarda/Downloads/HPMS_2020.gdb/output/output_HPMS_FULL_CA_2020.csv'\n"
     ]
    },
    {
     "name": "stderr",
     "output_type": "stream",
     "text": [
      "C:\\Users\\salazarda\\AppData\\Local\\anaconda3\\envs\\pytor\\Lib\\site-packages\\pyogrio\\raw.py:198: UserWarning: Measured (M) geometry types are not supported. Original type 'Measured MultiLineString' is converted to 'MultiLineString'\n",
      "  return ogr_read(\n"
     ]
    },
    {
     "name": "stdout",
     "output_type": "stream",
     "text": [
      "Tabla 'HPMS_FULL_MD_2020' exportada a 'C:/Users/salazarda/Downloads/HPMS_2020.gdb/output/output_HPMS_FULL_VT_2020.csv'\n"
     ]
    },
    {
     "name": "stderr",
     "output_type": "stream",
     "text": [
      "C:\\Users\\salazarda\\AppData\\Local\\anaconda3\\envs\\pytor\\Lib\\site-packages\\pyogrio\\raw.py:198: UserWarning: Measured (M) geometry types are not supported. Original type 'Measured MultiLineString' is converted to 'MultiLineString'\n",
      "  return ogr_read(\n"
     ]
    },
    {
     "name": "stdout",
     "output_type": "stream",
     "text": [
      "Tabla 'HPMS_FULL_MD_2020' exportada a 'C:/Users/salazarda/Downloads/HPMS_2020.gdb/output/output_HPMS_FULL_MA_2020.csv'\n"
     ]
    },
    {
     "name": "stderr",
     "output_type": "stream",
     "text": [
      "C:\\Users\\salazarda\\AppData\\Local\\anaconda3\\envs\\pytor\\Lib\\site-packages\\pyogrio\\raw.py:198: UserWarning: Measured (M) geometry types are not supported. Original type 'Measured MultiLineString' is converted to 'MultiLineString'\n",
      "  return ogr_read(\n"
     ]
    },
    {
     "name": "stdout",
     "output_type": "stream",
     "text": [
      "Tabla 'HPMS_FULL_MD_2020' exportada a 'C:/Users/salazarda/Downloads/HPMS_2020.gdb/output/output_HPMS_FULL_CT_2020.csv'\n"
     ]
    },
    {
     "name": "stderr",
     "output_type": "stream",
     "text": [
      "C:\\Users\\salazarda\\AppData\\Local\\anaconda3\\envs\\pytor\\Lib\\site-packages\\pyogrio\\raw.py:198: UserWarning: Measured (M) geometry types are not supported. Original type 'Measured MultiLineString' is converted to 'MultiLineString'\n",
      "  return ogr_read(\n"
     ]
    },
    {
     "name": "stdout",
     "output_type": "stream",
     "text": [
      "Tabla 'HPMS_FULL_MD_2020' exportada a 'C:/Users/salazarda/Downloads/HPMS_2020.gdb/output/output_HPMS_FULL_NH_2020.csv'\n"
     ]
    },
    {
     "name": "stderr",
     "output_type": "stream",
     "text": [
      "C:\\Users\\salazarda\\AppData\\Local\\anaconda3\\envs\\pytor\\Lib\\site-packages\\pyogrio\\raw.py:198: UserWarning: Measured (M) geometry types are not supported. Original type 'Measured MultiLineString' is converted to 'MultiLineString'\n",
      "  return ogr_read(\n"
     ]
    },
    {
     "name": "stdout",
     "output_type": "stream",
     "text": [
      "Tabla 'HPMS_FULL_MD_2020' exportada a 'C:/Users/salazarda/Downloads/HPMS_2020.gdb/output/output_HPMS_FULL_ME_2020.csv'\n"
     ]
    },
    {
     "name": "stderr",
     "output_type": "stream",
     "text": [
      "C:\\Users\\salazarda\\AppData\\Local\\anaconda3\\envs\\pytor\\Lib\\site-packages\\pyogrio\\raw.py:198: UserWarning: Measured (M) geometry types are not supported. Original type 'Measured MultiLineString' is converted to 'MultiLineString'\n",
      "  return ogr_read(\n"
     ]
    },
    {
     "name": "stdout",
     "output_type": "stream",
     "text": [
      "Tabla 'HPMS_FULL_MD_2020' exportada a 'C:/Users/salazarda/Downloads/HPMS_2020.gdb/output/output_HPMS_FULL_MI_2020.csv'\n"
     ]
    },
    {
     "name": "stderr",
     "output_type": "stream",
     "text": [
      "C:\\Users\\salazarda\\AppData\\Local\\anaconda3\\envs\\pytor\\Lib\\site-packages\\pyogrio\\raw.py:198: UserWarning: Measured (M) geometry types are not supported. Original type 'Measured MultiLineString' is converted to 'MultiLineString'\n",
      "  return ogr_read(\n"
     ]
    },
    {
     "name": "stdout",
     "output_type": "stream",
     "text": [
      "Tabla 'HPMS_FULL_MD_2020' exportada a 'C:/Users/salazarda/Downloads/HPMS_2020.gdb/output/output_HPMS_FULL_AL_2020.csv'\n"
     ]
    },
    {
     "name": "stderr",
     "output_type": "stream",
     "text": [
      "C:\\Users\\salazarda\\AppData\\Local\\anaconda3\\envs\\pytor\\Lib\\site-packages\\pyogrio\\raw.py:198: UserWarning: Measured (M) geometry types are not supported. Original type 'Measured MultiLineString' is converted to 'MultiLineString'\n",
      "  return ogr_read(\n"
     ]
    },
    {
     "name": "stdout",
     "output_type": "stream",
     "text": [
      "Tabla 'HPMS_FULL_MD_2020' exportada a 'C:/Users/salazarda/Downloads/HPMS_2020.gdb/output/output_HPMS_FULL_GA_2020.csv'\n"
     ]
    },
    {
     "name": "stderr",
     "output_type": "stream",
     "text": [
      "C:\\Users\\salazarda\\AppData\\Local\\anaconda3\\envs\\pytor\\Lib\\site-packages\\pyogrio\\raw.py:198: UserWarning: Measured (M) geometry types are not supported. Original type 'Measured MultiLineString' is converted to 'MultiLineString'\n",
      "  return ogr_read(\n"
     ]
    },
    {
     "name": "stdout",
     "output_type": "stream",
     "text": [
      "Tabla 'HPMS_FULL_MD_2020' exportada a 'C:/Users/salazarda/Downloads/HPMS_2020.gdb/output/output_HPMS_FULL_SC_2020.csv'\n"
     ]
    },
    {
     "name": "stderr",
     "output_type": "stream",
     "text": [
      "C:\\Users\\salazarda\\AppData\\Local\\anaconda3\\envs\\pytor\\Lib\\site-packages\\pyogrio\\raw.py:198: UserWarning: Measured (M) geometry types are not supported. Original type 'Measured MultiLineString' is converted to 'MultiLineString'\n",
      "  return ogr_read(\n"
     ]
    },
    {
     "name": "stdout",
     "output_type": "stream",
     "text": [
      "Tabla 'HPMS_FULL_MD_2020' exportada a 'C:/Users/salazarda/Downloads/HPMS_2020.gdb/output/output_HPMS_FULL_IL_2020.csv'\n"
     ]
    },
    {
     "name": "stderr",
     "output_type": "stream",
     "text": [
      "C:\\Users\\salazarda\\AppData\\Local\\anaconda3\\envs\\pytor\\Lib\\site-packages\\pyogrio\\raw.py:198: UserWarning: Measured (M) geometry types are not supported. Original type 'Measured MultiLineString' is converted to 'MultiLineString'\n",
      "  return ogr_read(\n"
     ]
    },
    {
     "name": "stdout",
     "output_type": "stream",
     "text": [
      "Tabla 'HPMS_FULL_MD_2020' exportada a 'C:/Users/salazarda/Downloads/HPMS_2020.gdb/output/output_HPMS_FULL_KY_2020.csv'\n"
     ]
    },
    {
     "name": "stderr",
     "output_type": "stream",
     "text": [
      "C:\\Users\\salazarda\\AppData\\Local\\anaconda3\\envs\\pytor\\Lib\\site-packages\\pyogrio\\raw.py:198: UserWarning: Measured (M) geometry types are not supported. Original type 'Measured MultiLineString' is converted to 'MultiLineString'\n",
      "  return ogr_read(\n"
     ]
    },
    {
     "name": "stdout",
     "output_type": "stream",
     "text": [
      "Tabla 'HPMS_FULL_MD_2020' exportada a 'C:/Users/salazarda/Downloads/HPMS_2020.gdb/output/output_HPMS_FULL_ID_2020.csv'\n"
     ]
    },
    {
     "name": "stderr",
     "output_type": "stream",
     "text": [
      "C:\\Users\\salazarda\\AppData\\Local\\anaconda3\\envs\\pytor\\Lib\\site-packages\\pyogrio\\raw.py:198: UserWarning: Measured (M) geometry types are not supported. Original type 'Measured MultiLineString' is converted to 'MultiLineString'\n",
      "  return ogr_read(\n"
     ]
    },
    {
     "name": "stdout",
     "output_type": "stream",
     "text": [
      "Tabla 'HPMS_FULL_MD_2020' exportada a 'C:/Users/salazarda/Downloads/HPMS_2020.gdb/output/output_HPMS_FULL_IA_2020.csv'\n"
     ]
    },
    {
     "name": "stderr",
     "output_type": "stream",
     "text": [
      "C:\\Users\\salazarda\\AppData\\Local\\anaconda3\\envs\\pytor\\Lib\\site-packages\\pyogrio\\raw.py:198: UserWarning: Measured (M) geometry types are not supported. Original type 'Measured MultiLineString' is converted to 'MultiLineString'\n",
      "  return ogr_read(\n"
     ]
    },
    {
     "name": "stdout",
     "output_type": "stream",
     "text": [
      "Tabla 'HPMS_FULL_MD_2020' exportada a 'C:/Users/salazarda/Downloads/HPMS_2020.gdb/output/output_HPMS_FULL_IN_2020.csv'\n"
     ]
    },
    {
     "name": "stderr",
     "output_type": "stream",
     "text": [
      "C:\\Users\\salazarda\\AppData\\Local\\anaconda3\\envs\\pytor\\Lib\\site-packages\\pyogrio\\raw.py:198: UserWarning: Measured (M) geometry types are not supported. Original type 'Measured MultiLineString' is converted to 'MultiLineString'\n",
      "  return ogr_read(\n"
     ]
    },
    {
     "name": "stdout",
     "output_type": "stream",
     "text": [
      "Tabla 'HPMS_FULL_MD_2020' exportada a 'C:/Users/salazarda/Downloads/HPMS_2020.gdb/output/output_HPMS_FULL_OH_2020.csv'\n"
     ]
    },
    {
     "name": "stderr",
     "output_type": "stream",
     "text": [
      "C:\\Users\\salazarda\\AppData\\Local\\anaconda3\\envs\\pytor\\Lib\\site-packages\\pyogrio\\raw.py:198: UserWarning: Measured (M) geometry types are not supported. Original type 'Measured MultiLineString' is converted to 'MultiLineString'\n",
      "  return ogr_read(\n"
     ]
    },
    {
     "name": "stdout",
     "output_type": "stream",
     "text": [
      "Tabla 'HPMS_FULL_MD_2020' exportada a 'C:/Users/salazarda/Downloads/HPMS_2020.gdb/output/output_HPMS_FULL_MO_2020.csv'\n"
     ]
    },
    {
     "name": "stderr",
     "output_type": "stream",
     "text": [
      "C:\\Users\\salazarda\\AppData\\Local\\anaconda3\\envs\\pytor\\Lib\\site-packages\\pyogrio\\raw.py:198: UserWarning: Measured (M) geometry types are not supported. Original type 'Measured MultiLineString' is converted to 'MultiLineString'\n",
      "  return ogr_read(\n"
     ]
    },
    {
     "name": "stdout",
     "output_type": "stream",
     "text": [
      "Tabla 'HPMS_FULL_MD_2020' exportada a 'C:/Users/salazarda/Downloads/HPMS_2020.gdb/output/output_HPMS_FULL_AR_2020.csv'\n"
     ]
    },
    {
     "name": "stderr",
     "output_type": "stream",
     "text": [
      "C:\\Users\\salazarda\\AppData\\Local\\anaconda3\\envs\\pytor\\Lib\\site-packages\\pyogrio\\raw.py:198: UserWarning: Measured (M) geometry types are not supported. Original type 'Measured MultiLineString' is converted to 'MultiLineString'\n",
      "  return ogr_read(\n"
     ]
    },
    {
     "name": "stdout",
     "output_type": "stream",
     "text": [
      "Tabla 'HPMS_FULL_MD_2020' exportada a 'C:/Users/salazarda/Downloads/HPMS_2020.gdb/output/output_HPMS_FULL_AK_2020.csv'\n"
     ]
    },
    {
     "name": "stderr",
     "output_type": "stream",
     "text": [
      "C:\\Users\\salazarda\\AppData\\Local\\anaconda3\\envs\\pytor\\Lib\\site-packages\\pyogrio\\raw.py:198: UserWarning: Measured (M) geometry types are not supported. Original type 'Measured MultiLineString' is converted to 'MultiLineString'\n",
      "  return ogr_read(\n"
     ]
    },
    {
     "name": "stdout",
     "output_type": "stream",
     "text": [
      "Tabla 'HPMS_FULL_MD_2020' exportada a 'C:/Users/salazarda/Downloads/HPMS_2020.gdb/output/output_HPMS_FULL_ND_2020.csv'\n"
     ]
    },
    {
     "name": "stderr",
     "output_type": "stream",
     "text": [
      "C:\\Users\\salazarda\\AppData\\Local\\anaconda3\\envs\\pytor\\Lib\\site-packages\\pyogrio\\raw.py:198: UserWarning: Measured (M) geometry types are not supported. Original type 'Measured MultiLineString' is converted to 'MultiLineString'\n",
      "  return ogr_read(\n"
     ]
    },
    {
     "name": "stdout",
     "output_type": "stream",
     "text": [
      "Tabla 'HPMS_FULL_MD_2020' exportada a 'C:/Users/salazarda/Downloads/HPMS_2020.gdb/output/output_HPMS_FULL_SD_2020.csv'\n"
     ]
    },
    {
     "name": "stderr",
     "output_type": "stream",
     "text": [
      "C:\\Users\\salazarda\\AppData\\Local\\anaconda3\\envs\\pytor\\Lib\\site-packages\\pyogrio\\raw.py:198: UserWarning: Measured (M) geometry types are not supported. Original type 'Measured MultiLineString' is converted to 'MultiLineString'\n",
      "  return ogr_read(\n"
     ]
    },
    {
     "name": "stdout",
     "output_type": "stream",
     "text": [
      "Tabla 'HPMS_FULL_MD_2020' exportada a 'C:/Users/salazarda/Downloads/HPMS_2020.gdb/output/output_HPMS_FULL_NE_2020.csv'\n"
     ]
    },
    {
     "name": "stderr",
     "output_type": "stream",
     "text": [
      "C:\\Users\\salazarda\\AppData\\Local\\anaconda3\\envs\\pytor\\Lib\\site-packages\\pyogrio\\raw.py:198: UserWarning: Measured (M) geometry types are not supported. Original type 'Measured MultiLineString' is converted to 'MultiLineString'\n",
      "  return ogr_read(\n"
     ]
    },
    {
     "name": "stdout",
     "output_type": "stream",
     "text": [
      "Tabla 'HPMS_FULL_MD_2020' exportada a 'C:/Users/salazarda/Downloads/HPMS_2020.gdb/output/output_HPMS_FULL_OR_2020.csv'\n"
     ]
    },
    {
     "name": "stderr",
     "output_type": "stream",
     "text": [
      "C:\\Users\\salazarda\\AppData\\Local\\anaconda3\\envs\\pytor\\Lib\\site-packages\\pyogrio\\raw.py:198: UserWarning: Measured (M) geometry types are not supported. Original type 'Measured MultiLineString' is converted to 'MultiLineString'\n",
      "  return ogr_read(\n"
     ]
    },
    {
     "name": "stdout",
     "output_type": "stream",
     "text": [
      "Tabla 'HPMS_FULL_MD_2020' exportada a 'C:/Users/salazarda/Downloads/HPMS_2020.gdb/output/output_HPMS_FULL_WI_2020.csv'\n"
     ]
    },
    {
     "name": "stderr",
     "output_type": "stream",
     "text": [
      "C:\\Users\\salazarda\\AppData\\Local\\anaconda3\\envs\\pytor\\Lib\\site-packages\\pyogrio\\raw.py:198: UserWarning: Measured (M) geometry types are not supported. Original type 'Measured MultiLineString' is converted to 'MultiLineString'\n",
      "  return ogr_read(\n"
     ]
    },
    {
     "name": "stdout",
     "output_type": "stream",
     "text": [
      "Tabla 'HPMS_FULL_MD_2020' exportada a 'C:/Users/salazarda/Downloads/HPMS_2020.gdb/output/output_HPMS_FULL_WY_2020.csv'\n"
     ]
    },
    {
     "name": "stderr",
     "output_type": "stream",
     "text": [
      "C:\\Users\\salazarda\\AppData\\Local\\anaconda3\\envs\\pytor\\Lib\\site-packages\\pyogrio\\raw.py:198: UserWarning: Measured (M) geometry types are not supported. Original type 'Measured MultiLineString' is converted to 'MultiLineString'\n",
      "  return ogr_read(\n"
     ]
    },
    {
     "name": "stdout",
     "output_type": "stream",
     "text": [
      "Tabla 'HPMS_FULL_MD_2020' exportada a 'C:/Users/salazarda/Downloads/HPMS_2020.gdb/output/output_HPMS_FULL_MT_2020.csv'\n"
     ]
    },
    {
     "name": "stderr",
     "output_type": "stream",
     "text": [
      "C:\\Users\\salazarda\\AppData\\Local\\anaconda3\\envs\\pytor\\Lib\\site-packages\\pyogrio\\raw.py:198: UserWarning: Measured (M) geometry types are not supported. Original type 'Measured MultiLineString' is converted to 'MultiLineString'\n",
      "  return ogr_read(\n"
     ]
    },
    {
     "name": "stdout",
     "output_type": "stream",
     "text": [
      "Tabla 'HPMS_FULL_MD_2020' exportada a 'C:/Users/salazarda/Downloads/HPMS_2020.gdb/output/output_HPMS_FULL_WA_2020.csv'\n"
     ]
    },
    {
     "name": "stderr",
     "output_type": "stream",
     "text": [
      "C:\\Users\\salazarda\\AppData\\Local\\anaconda3\\envs\\pytor\\Lib\\site-packages\\pyogrio\\raw.py:198: UserWarning: Measured (M) geometry types are not supported. Original type 'Measured MultiLineString' is converted to 'MultiLineString'\n",
      "  return ogr_read(\n"
     ]
    },
    {
     "name": "stdout",
     "output_type": "stream",
     "text": [
      "Tabla 'HPMS_FULL_MD_2020' exportada a 'C:/Users/salazarda/Downloads/HPMS_2020.gdb/output/output_HPMS_FULL_NM_2020.csv'\n"
     ]
    },
    {
     "name": "stderr",
     "output_type": "stream",
     "text": [
      "C:\\Users\\salazarda\\AppData\\Local\\anaconda3\\envs\\pytor\\Lib\\site-packages\\pyogrio\\raw.py:198: UserWarning: Measured (M) geometry types are not supported. Original type 'Measured MultiLineString' is converted to 'MultiLineString'\n",
      "  return ogr_read(\n"
     ]
    },
    {
     "name": "stdout",
     "output_type": "stream",
     "text": [
      "Tabla 'HPMS_FULL_MD_2020' exportada a 'C:/Users/salazarda/Downloads/HPMS_2020.gdb/output/output_HPMS_FULL_UT_2020.csv'\n"
     ]
    },
    {
     "name": "stderr",
     "output_type": "stream",
     "text": [
      "C:\\Users\\salazarda\\AppData\\Local\\anaconda3\\envs\\pytor\\Lib\\site-packages\\pyogrio\\raw.py:198: UserWarning: Measured (M) geometry types are not supported. Original type 'Measured MultiLineString' is converted to 'MultiLineString'\n",
      "  return ogr_read(\n"
     ]
    },
    {
     "name": "stdout",
     "output_type": "stream",
     "text": [
      "Tabla 'HPMS_FULL_MD_2020' exportada a 'C:/Users/salazarda/Downloads/HPMS_2020.gdb/output/output_HPMS_FULL_MN_2020.csv'\n"
     ]
    },
    {
     "name": "stderr",
     "output_type": "stream",
     "text": [
      "C:\\Users\\salazarda\\AppData\\Local\\anaconda3\\envs\\pytor\\Lib\\site-packages\\pyogrio\\raw.py:198: UserWarning: Measured (M) geometry types are not supported. Original type 'Measured MultiLineString' is converted to 'MultiLineString'\n",
      "  return ogr_read(\n"
     ]
    },
    {
     "name": "stdout",
     "output_type": "stream",
     "text": [
      "Tabla 'HPMS_FULL_MD_2020' exportada a 'C:/Users/salazarda/Downloads/HPMS_2020.gdb/output/output_HPMS_FULL_NV_2020.csv'\n"
     ]
    },
    {
     "name": "stderr",
     "output_type": "stream",
     "text": [
      "C:\\Users\\salazarda\\AppData\\Local\\anaconda3\\envs\\pytor\\Lib\\site-packages\\pyogrio\\raw.py:198: UserWarning: Measured (M) geometry types are not supported. Original type 'Measured MultiLineString' is converted to 'MultiLineString'\n",
      "  return ogr_read(\n"
     ]
    },
    {
     "name": "stdout",
     "output_type": "stream",
     "text": [
      "Tabla 'HPMS_FULL_MD_2020' exportada a 'C:/Users/salazarda/Downloads/HPMS_2020.gdb/output/output_HPMS_FULL_AZ_2020.csv'\n"
     ]
    },
    {
     "name": "stderr",
     "output_type": "stream",
     "text": [
      "C:\\Users\\salazarda\\AppData\\Local\\anaconda3\\envs\\pytor\\Lib\\site-packages\\pyogrio\\raw.py:198: UserWarning: Measured (M) geometry types are not supported. Original type 'Measured MultiLineString' is converted to 'MultiLineString'\n",
      "  return ogr_read(\n"
     ]
    },
    {
     "name": "stdout",
     "output_type": "stream",
     "text": [
      "Tabla 'HPMS_FULL_MD_2020' exportada a 'C:/Users/salazarda/Downloads/HPMS_2020.gdb/output/output_HPMS_FULL_HI_2020.csv'\n"
     ]
    },
    {
     "name": "stderr",
     "output_type": "stream",
     "text": [
      "C:\\Users\\salazarda\\AppData\\Local\\anaconda3\\envs\\pytor\\Lib\\site-packages\\pyogrio\\raw.py:198: UserWarning: Measured (M) geometry types are not supported. Original type 'Measured MultiLineString' is converted to 'MultiLineString'\n",
      "  return ogr_read(\n"
     ]
    },
    {
     "name": "stdout",
     "output_type": "stream",
     "text": [
      "Tabla 'HPMS_FULL_MD_2020' exportada a 'C:/Users/salazarda/Downloads/HPMS_2020.gdb/output/output_HPMS_FULL_PR_2020.csv'\n"
     ]
    },
    {
     "name": "stderr",
     "output_type": "stream",
     "text": [
      "C:\\Users\\salazarda\\AppData\\Local\\anaconda3\\envs\\pytor\\Lib\\site-packages\\pyogrio\\raw.py:198: UserWarning: Measured (M) geometry types are not supported. Original type 'Measured MultiLineString' is converted to 'MultiLineString'\n",
      "  return ogr_read(\n"
     ]
    },
    {
     "name": "stdout",
     "output_type": "stream",
     "text": [
      "Tabla 'HPMS_FULL_MD_2020' exportada a 'C:/Users/salazarda/Downloads/HPMS_2020.gdb/output/output_HPMS_FULL_DE_2020.csv'\n"
     ]
    },
    {
     "name": "stderr",
     "output_type": "stream",
     "text": [
      "C:\\Users\\salazarda\\AppData\\Local\\anaconda3\\envs\\pytor\\Lib\\site-packages\\pyogrio\\raw.py:198: UserWarning: Measured (M) geometry types are not supported. Original type 'Measured MultiLineString' is converted to 'MultiLineString'\n",
      "  return ogr_read(\n"
     ]
    },
    {
     "name": "stdout",
     "output_type": "stream",
     "text": [
      "Tabla 'HPMS_FULL_MD_2020' exportada a 'C:/Users/salazarda/Downloads/HPMS_2020.gdb/output/output_HPMS_FULL_MS_2020.csv'\n"
     ]
    },
    {
     "name": "stderr",
     "output_type": "stream",
     "text": [
      "C:\\Users\\salazarda\\AppData\\Local\\anaconda3\\envs\\pytor\\Lib\\site-packages\\pyogrio\\raw.py:198: UserWarning: Measured (M) geometry types are not supported. Original type 'Measured MultiLineString' is converted to 'MultiLineString'\n",
      "  return ogr_read(\n"
     ]
    },
    {
     "name": "stdout",
     "output_type": "stream",
     "text": [
      "Tabla 'HPMS_FULL_MD_2020' exportada a 'C:/Users/salazarda/Downloads/HPMS_2020.gdb/output/output_HPMS_FULL_CO_2020.csv'\n"
     ]
    }
   ],
   "source": [
    "for i in lista:\n",
    "    gdf = gpd.read_file(gdb_path, layer=i)\n",
    "\n",
    "    # Especifica la ruta y nombre del archivo CSV de salida\n",
    "    output_csv_path = f'C:/Users/salazarda/Downloads/HPMS_2020.gdb/output/output_{i}.csv'\n",
    "\n",
    "    # Exporta el GeoDataFrame a un archivo CSV\n",
    "    gdf.to_csv(output_csv_path, index=False)\n",
    "\n",
    "    print(f\"Tabla '{i}' exportada a '{output_csv_path}'\")"
   ]
  },
  {
   "cell_type": "code",
   "execution_count": null,
   "id": "de50187b-d927-49fb-96c1-ffa4ff63aef8",
   "metadata": {},
   "outputs": [],
   "source": []
  },
  {
   "cell_type": "code",
   "execution_count": 12,
   "id": "4dd286d7-c360-4263-8f90-2af4af161209",
   "metadata": {
    "collapsed": true,
    "jupyter": {
     "outputs_hidden": true
    },
    "scrolled": true
   },
   "outputs": [
    {
     "data": {
      "text/plain": [
       "['a00000001.gdbtable',\n",
       " 'a00000002.gdbtable',\n",
       " 'a00000003.gdbtable',\n",
       " 'a00000004.gdbtable',\n",
       " 'a00000005.gdbtable',\n",
       " 'a00000006.gdbtable',\n",
       " 'a00000007.gdbtable',\n",
       " 'a00000009.gdbtable',\n",
       " 'a0000000a.gdbtable',\n",
       " 'a0000000c.gdbtable',\n",
       " 'a0000000e.gdbtable',\n",
       " 'a0000000f.gdbtable',\n",
       " 'a00000010.gdbtable',\n",
       " 'a00000011.gdbtable',\n",
       " 'a00000012.gdbtable',\n",
       " 'a00000013.gdbtable',\n",
       " 'a00000014.gdbtable',\n",
       " 'a00000015.gdbtable',\n",
       " 'a00000016.gdbtable',\n",
       " 'a00000017.gdbtable',\n",
       " 'a00000018.gdbtable',\n",
       " 'a00000019.gdbtable',\n",
       " 'a0000001a.gdbtable',\n",
       " 'a0000001c.gdbtable',\n",
       " 'a0000001d.gdbtable',\n",
       " 'a0000001e.gdbtable',\n",
       " 'a0000001f.gdbtable',\n",
       " 'a00000020.gdbtable',\n",
       " 'a00000021.gdbtable',\n",
       " 'a00000022.gdbtable',\n",
       " 'a00000025.gdbtable',\n",
       " 'a00000026.gdbtable',\n",
       " 'a00000027.gdbtable',\n",
       " 'a00000028.gdbtable',\n",
       " 'a00000029.gdbtable',\n",
       " 'a0000002a.gdbtable',\n",
       " 'a0000002b.gdbtable',\n",
       " 'a0000002c.gdbtable',\n",
       " 'a0000002d.gdbtable',\n",
       " 'a0000002e.gdbtable',\n",
       " 'a0000002f.gdbtable',\n",
       " 'a00000030.gdbtable',\n",
       " 'a00000031.gdbtable',\n",
       " 'a00000032.gdbtable',\n",
       " 'a00000035.gdbtable',\n",
       " 'a00000036.gdbtable',\n",
       " 'a00000037.gdbtable',\n",
       " 'a00000038.gdbtable',\n",
       " 'a00000039.gdbtable',\n",
       " 'a0000003a.gdbtable',\n",
       " 'a0000003b.gdbtable',\n",
       " 'a0000003c.gdbtable',\n",
       " 'a0000003d.gdbtable',\n",
       " 'a0000003e.gdbtable',\n",
       " 'a0000003f.gdbtable',\n",
       " 'a00000040.gdbtable',\n",
       " 'a00000041.gdbtable',\n",
       " 'a00000042.gdbtable',\n",
       " 'a00000043.gdbtable',\n",
       " 'a00000044.gdbtable']"
      ]
     },
     "execution_count": 12,
     "metadata": {},
     "output_type": "execute_result"
    }
   ],
   "source": [
    "[i for i in os.listdir('C:/Users/salazarda/Downloads/HPMS_2020.gdb/HPMS_2020.gdb/') if not re.search('gdbtable', i) == None]"
   ]
  },
  {
   "cell_type": "code",
   "execution_count": null,
   "id": "a9544fbd-34e0-497a-9210-8bc457788608",
   "metadata": {},
   "outputs": [],
   "source": []
  }
 ],
 "metadata": {
  "kernelspec": {
   "display_name": "Python 3 (ipykernel)",
   "language": "python",
   "name": "python3"
  },
  "language_info": {
   "codemirror_mode": {
    "name": "ipython",
    "version": 3
   },
   "file_extension": ".py",
   "mimetype": "text/x-python",
   "name": "python",
   "nbconvert_exporter": "python",
   "pygments_lexer": "ipython3",
   "version": "3.12.8"
  }
 },
 "nbformat": 4,
 "nbformat_minor": 5
}
